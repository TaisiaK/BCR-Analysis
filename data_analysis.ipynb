{
 "cells": [
  {
   "cell_type": "code",
   "execution_count": 2,
   "id": "123ffc88",
   "metadata": {},
   "outputs": [],
   "source": [
    "import utils        #need to import functions to use them \n",
    "import pandas as pd \n",
    "import os"
   ]
  },
  {
   "cell_type": "code",
   "execution_count": null,
   "id": "c99557cd",
   "metadata": {},
   "outputs": [
    {
     "name": "stdout",
     "output_type": "stream",
     "text": [
      "The following light chain genes were removed: ['IGKV2D-30', 'IGKV3D-7', 'IGKV3OR2-268', 'IGKV6D-41', 'IGLV3-12', 'IGLV5-52', 'IGLV2-8', 'IGLJ6']\n",
      "           IGKL         IGH  observed  expected         p_val     adj_pvals\n",
      "0     IGKV3D-11    IGHD1-14         0  0.002344  1.000000e+00  1.000000e+00\n",
      "1     IGKV3D-11    IGHV3-13         0  0.000558  1.000000e+00  1.000000e+00\n",
      "2     IGKV3D-11  IGHV1-69-2         0  0.006920  1.000000e+00  1.000000e+00\n",
      "3     IGKV3D-11    IGHD4-23         0  0.003125  1.000000e+00  1.000000e+00\n",
      "4     IGKV3D-11     IGHD2-2         0  0.008371  1.000000e+00  1.000000e+00\n",
      "...         ...         ...       ...       ...           ...           ...\n",
      "4923      IGKJ4    IGHV3-73         1  0.358929  3.046385e-01  7.298449e-01\n",
      "4924      IGKJ4    IGHV1-24         3  0.740290  3.705028e-02  1.438801e-01\n",
      "4925      IGKJ4    IGHD1-20         3  0.224330  1.188004e-03  9.889328e-03\n",
      "4926      IGKJ4       IGHJ5        21  3.791183  1.478820e-10  9.588978e-09\n",
      "4927      IGKJ4    IGHV5-51         5  1.480580  1.598785e-02  7.592176e-02\n",
      "\n",
      "[4928 rows x 6 columns]\n"
     ]
    }
   ],
   "source": [
    "file_name = 'Atypical_heavy_light_chains.csv'\n",
    "df = pd.read_csv(file_name)\n",
    "df = utils.remove_rows(df, 'productive', True)\n",
    "utils.amino_acid_count(df, 'R')\n",
    "utils.crd3_pKa(df)\n",
    "gene_counts_df = utils.get_gene_counts_df(df, ['v_gene', 'j_gene', 'd_gene'])\n",
    "trim_df = utils.remove_by_threshold(df, gene_counts_df, 0.05)\n",
    "#tgene_counts_df = utils.get_gene_counts_df(trim_df, ['v_gene', 'j_gene', 'd_gene'])\n",
    "all_igh, all_iglk = utils.all_heavyLight_genes([trim_df], ['v_gene', 'j_gene', 'd_gene'])\n",
    "for cell_type, cell_info in trim_df.groupby(\"Celltype (Cluster)\"):\n",
    "    pair_df = utils.get_pair_counts(cell_info, ['v_gene', 'j_gene', 'd_gene'])\n",
    "    cur_counts_df = utils.get_gene_counts_df(cell_info, ['v_gene', 'j_gene', 'd_gene'])\n",
    "    cur_all_igh, cur_all_iglk = utils.all_heavyLight_genes([cell_info], ['v_gene', 'j_gene', 'd_gene'])\n",
    "    #GAHHH WHICH ONES TO USE HERE!\n",
    "    output_df = utils.get_hypergoemetric_test(pair_df, cur_counts_df, all_igh, all_iglk)\n",
    "    print(output_df)\n",
    "    break"
   ]
  },
  {
   "cell_type": "code",
   "execution_count": 4,
   "id": "06ad01dd",
   "metadata": {},
   "outputs": [],
   "source": [
    "all_igh, all_iglk = utils.all_heavyLight_genes([trim_df], ['v_gene', 'j_gene', 'd_gene'])\n",
    "needed_Lgenes = [gene for gene in all_iglk if gene.startswith(\"IGLV\") or gene.startswith(\"IGKV\")]\n",
    "needed_Lgenes.sort()\n",
    "trim_totals = []\n",
    "for cell_type, cell_info in trim_df.groupby(\"Celltype (Cluster)\"):\n",
    "    cell_df = utils.lightChain_vs_heavyRcount_relFrequency(cell_info, needed_Lgenes, \"cdr_R_count\")\n",
    "    trim_totals.append([cell_type, cell_df])"
   ]
  },
  {
   "cell_type": "markdown",
   "id": "33459441",
   "metadata": {},
   "source": [
    "Organizing data from native files. Want to make graphs showing the relative frequenices of heavy chains with 0 Rs and with more the 0 Rs for each light chain (for each paitent: 3 hcd and 3 sle). "
   ]
  },
  {
   "cell_type": "code",
   "execution_count": 2,
   "id": "4875a3b1",
   "metadata": {},
   "outputs": [],
   "source": [
    "directory = r\"C:\\Users\\tskal\\OneDrive\\Desktop\\Working for Mama!\\files naive\"\n",
    "file_names = []\n",
    "fkeys = []\n",
    "for path, folders, files in os.walk(directory):\n",
    "    for filename in files: \n",
    "        full_name = \"files naive/\"+filename\n",
    "        fkey = filename[:3]+filename[4]\n",
    "        file_names.append(full_name)\n",
    "        fkeys.append(fkey)\n",
    "dfs = []\n",
    "for f in file_names:\n",
    "    dfs.append(pd.read_csv(f))\n",
    "all_igh, all_iglk = utils.all_heavyLight_genes(dfs, ['v_gene', 'j_gene', 'd_gene'])"
   ]
  },
  {
   "cell_type": "code",
   "execution_count": 3,
   "id": "b990fa44",
   "metadata": {},
   "outputs": [],
   "source": [
    "needed_genes = [gene for gene in all_iglk if gene.startswith(\"IGLV\") or gene.startswith(\"IGKV\")]\n",
    "needed_genes.sort()"
   ]
  },
  {
   "cell_type": "code",
   "execution_count": null,
   "id": "117fb23f",
   "metadata": {},
   "outputs": [
    {
     "name": "stdout",
     "output_type": "stream",
     "text": [
      "The following light chain genes were removed: ['IGLV4-60', 'IGKV6D-21', 'IGKV3D-11', 'IGLV9-49', 'IGLJ7', 'IGKV1-39', 'IGLV5-37', 'IGLV8-61']\n",
      "The following light chain genes were removed: ['IGKV3D-11', 'IGKV1D-13', 'IGKV2D-28', 'IGLV3-22']\n",
      "The following light chain genes were removed: ['IGKV3D-7', 'IGKV1D-43', 'IGKV2D-26', 'IGLV4-3']\n",
      "The following light chain genes were removed: ['IGKV2D-28', 'IGKV3D-11', 'IGKV1D-16', 'IGKV5-2', 'IGLV2-18', 'IGLV5-37', 'IGLJ7']\n",
      "The following light chain genes were removed: ['IGKV2D-26', 'IGKV3D-11', 'IGKV5-2', 'IGLV5-39']\n",
      "The following light chain genes were removed: ['IGKV3D-20', 'IGLV5-45', 'IGKV2-18', 'IGKV6D-21', 'IGKV1D-16', 'IGLV5-52']\n",
      "Index(['light_gene', 'Rcount_equalTo_0', 'Rcount_gt_0', 'total', 'R_gt_0_freq',\n",
      "       'R_equal_0_freq', 'zstat', 'p_value', 'significant'],\n",
      "      dtype='object', name='Rcount_type')\n"
     ]
    }
   ],
   "source": [
    "count = 0\n",
    "needed_info = []\n",
    "trimed_dfs = []\n",
    "for cur_df in dfs: \n",
    "    #removing rows that are not productive or Naive \n",
    "    cur_df = utils.remove_rows(cur_df, 'productive', True)\n",
    "    cur_df = utils.remove_rows(cur_df, 'is_naive', \"Naive\")\n",
    "    #reoganizing df so that all information for on cell in on same row\n",
    "    cur_grouped_df = utils.make_combined_rows(cur_df, ['IGH', 'IGK', 'IGL'])\n",
    "    cur_gene_counts_df = utils.get_gene_counts_df(cur_grouped_df, ['v_gene', 'j_gene', 'd_gene'])\n",
    "    trim_df = utils.remove_by_threshold(cur_grouped_df, cur_gene_counts_df, 0.05)\n",
    "    #adding additional columns \n",
    "    utils.amino_acid_count(trim_df, 'R')\n",
    "    utils.crd3_pKa(trim_df)\n",
    "    #getting relative frequenices of heavy chain R amounts\n",
    "    light_rcount_df = utils.lightChain_vs_heavyRcount_relFrequency(trim_df, needed_genes, \"IGH_R_count\")\n",
    "    utils.add_ztest_values(light_rcount_df, ['Rcount_gt_0', 'Rcount_equalTo_0'], 'total')\n",
    "    needed_info.append([fkeys[count], light_rcount_df])\n",
    "    #PCIK ONE!\n",
    "    dfs[count] = trim_df\n",
    "    trimed_dfs.append(trim_df)\n",
    "    count += 1\n",
    "print(needed_info[0][1].columns)"
   ]
  },
  {
   "cell_type": "code",
   "execution_count": 6,
   "id": "cca8dd32",
   "metadata": {},
   "outputs": [
    {
     "name": "stdout",
     "output_type": "stream",
     "text": [
      "Writing sheet: Individual\n",
      "Writing sheet: Totals\n"
     ]
    }
   ],
   "source": [
    "h_total_df = needed_info[0][1].copy()\n",
    "h_total_df = h_total_df.drop(columns=['total', 'R_gt_0_freq','R_equal_0_freq', 'zstat', 'p_value', 'significant'])\n",
    "h_total_df[\"Rcount_equalTo_0\"] += needed_info[1][1]['Rcount_equalTo_0'] + needed_info[2][1]['Rcount_equalTo_0'] \n",
    "h_total_df[\"Rcount_gt_0\"] += needed_info[1][1]['Rcount_gt_0'] + needed_info[2][1]['Rcount_gt_0'] \n",
    "h_total_df[\"Total\"] = h_total_df[\"Rcount_equalTo_0\"] + h_total_df[\"Rcount_gt_0\"]\n",
    "h_total_df['R_gt_0_freq'] = h_total_df['Rcount_gt_0']/h_total_df['Total'] *100\n",
    "h_total_df['R_equal_0_freq'] = h_total_df['Rcount_equalTo_0']/h_total_df['Total'] *100\n",
    "utils.add_ztest_values(h_total_df, ['Rcount_gt_0', 'Rcount_equalTo_0'], 'Total')\n",
    "\n",
    "s_total_df = needed_info[3][1].copy()\n",
    "s_total_df = s_total_df.drop(columns=['total', 'R_gt_0_freq','R_equal_0_freq', 'zstat', 'p_value', 'significant'])\n",
    "s_total_df[\"Rcount_equalTo_0\"] += needed_info[4][1]['Rcount_equalTo_0'] + needed_info[5][1]['Rcount_equalTo_0'] \n",
    "s_total_df[\"Rcount_gt_0\"] += needed_info[4][1]['Rcount_gt_0'] + needed_info[5][1]['Rcount_gt_0'] \n",
    "s_total_df[\"Total\"] = s_total_df[\"Rcount_equalTo_0\"] + s_total_df[\"Rcount_gt_0\"]\n",
    "s_total_df['R_gt_0_freq'] = s_total_df['Rcount_gt_0']/s_total_df['Total'] *100\n",
    "s_total_df['R_equal_0_freq'] = s_total_df['Rcount_equalTo_0']/s_total_df['Total'] *100\n",
    "utils.add_ztest_values(s_total_df, ['Rcount_gt_0', 'Rcount_equalTo_0'], 'Total')\n",
    "\n",
    "excel_graph_format = {\n",
    "    \"Individual\": {\n",
    "        \"tables\": [{\"data\": info[1], \"title\": f\"{info[0]} Heavy Chain R Amount for Each Light Chain\",\n",
    "                \"graph_type\": \"Bar\",\"graph_name\": info[0],\n",
    "                \"graph_details\": {\"x\": \"light_gene\", \"y\": [\"R_gt_0_freq\", \"R_equal_0_freq\"]}}\n",
    "            for info in needed_info]}, \n",
    "    \"Totals\": {\"tables\":[\n",
    "        {\"data\": h_total_df, \"title\": f\"Total hcd Heavy Chain R Amount for Each Light Chain\", \"graph_type\": \"Bar\",\"graph_name\": \"hcd Totals\", \n",
    "         \"graph_details\": {\"x\": \"light_gene\", \"y\": [\"R_gt_0_freq\", \"R_equal_0_freq\"]}}, \n",
    "        {\"data\": s_total_df, \"title\": f\"Total sle Heavy Chain R Amount for Each Light Chain\", \"graph_type\": \"Bar\",\"graph_name\": \"sle Totals\",\n",
    "        \"graph_details\": {\"x\": \"light_gene\", \"y\": [\"R_gt_0_freq\", \"R_equal_0_freq\"]}}\n",
    "    ]}\n",
    "}   \n",
    "excel_format = {\n",
    "    \"Individual\": {\n",
    "        \"tables\": [{\"data\": info[1], \"title\": f\"{info[0]} Heavy Chain R Amount for Each Light Chain\"}\n",
    "            for info in needed_info]}, \n",
    "    \"Totals\": {\"tables\":[\n",
    "        {\"data\": h_total_df, \"title\": f\"Total hcd Heavy Chain R Amount for Each Light Chain\"}, \n",
    "        {\"data\": s_total_df, \"title\": f\"Total sle Heavy Chain R Amount for Each Light Chain\"}\n",
    "    ]}\n",
    "}   \n",
    "utils.all_to_excel(excel_format, \"naive_R_stuff_ztestNums_alt\")"
   ]
  },
  {
   "cell_type": "markdown",
   "id": "f78221a6",
   "metadata": {},
   "source": [
    "Doing same analysis but for different dataset (and splitting by cell type this time)!"
   ]
  },
  {
   "cell_type": "code",
   "execution_count": 24,
   "id": "bd1aae18",
   "metadata": {},
   "outputs": [],
   "source": [
    "f_name = \"Atypical_heavy_light_chains.csv\"\n",
    "g_df = pd.read_csv(f_name)\n",
    "all_igh, all_iglk = utils.all_heavyLight_genes([g_df], ['v_gene', 'j_gene', 'd_gene'])\n",
    "g_df = utils.remove_rows(g_df, 'productive', True)\n",
    "#adding additional columns \n",
    "utils.amino_acid_count(g_df, 'R')\n",
    "utils.crd3_pKa(g_df)\n",
    "needed_Lgenes = [gene for gene in all_iglk if gene.startswith(\"IGLV\") or gene.startswith(\"IGKV\")]\n",
    "needed_Lgenes.sort()\n",
    "processed_samples = [] #[[name, [cell type, heavy/light R freq], [cell type, heavy/light R freq], ...], [name, ...]]\n",
    "for name, sample_info in g_df.groupby(\"Sample\"):\n",
    "    sample = [name]\n",
    "    for cell_type, cell_info in sample_info.groupby(\"Celltype (Cluster)\"):\n",
    "        cell_df = utils.lightChain_vs_heavyRcount_relFrequency(cell_info, needed_Lgenes, \"cdr_R_count\")\n",
    "        sample.append([cell_type, cell_df])\n",
    "    processed_samples.append(sample)"
   ]
  },
  {
   "cell_type": "code",
   "execution_count": 28,
   "id": "57efe367",
   "metadata": {},
   "outputs": [
    {
     "name": "stdout",
     "output_type": "stream",
     "text": [
      "Keys in e_format: dict_keys(['Malaria-Exp 1', 'Malaria-Exp 2', 'Non-Exp 1', 'Non-Exp 2', 'Total'])\n",
      "Writing sheet: Malaria-Exp 1\n",
      "Writing sheet: Malaria-Exp 2\n",
      "Writing sheet: Non-Exp 1\n",
      "Writing sheet: Non-Exp 2\n",
      "Writing sheet: Total\n"
     ]
    }
   ],
   "source": [
    "totals = []\n",
    "for cell_type, cell_info in g_df.groupby(\"Celltype (Cluster)\"):\n",
    "    cell_df = utils.lightChain_vs_heavyRcount_relFrequency(cell_info, needed_Lgenes, \"cdr_R_count\")\n",
    "    totals.append([cell_type, cell_df])\n",
    "e_format = {}\n",
    "for sample in processed_samples: \n",
    "    e_format[sample[0]] = {\"tables\": [{\"data\": info[1], \"title\": f\"{info[0]} Heavy Chain R Amount for Each Light Chain\",\n",
    "                \"graph_type\": \"Bar\",\"graph_name\": info[0],\n",
    "                \"graph_details\": {\"x\": \"light_gene\", \"y\": [\"R_gt_0_freq\", \"R_equal_0_freq\"]}}\n",
    "            for info in sample[1:]]}\n",
    "e_format[\"Total\"] = {\"tables\": [{\"data\": info[1], \"title\": f\"{info[0]} Heavy Chain R Amount for Each Light Chain\",\n",
    "                \"graph_type\": \"Bar\",\"graph_name\": info[0],\n",
    "                \"graph_details\": {\"x\": \"light_gene\", \"y\": [\"R_gt_0_freq\", \"R_equal_0_freq\"]}}\n",
    "            for info in totals]}\n",
    "print(\"Keys in e_format:\", e_format.keys())\n",
    "utils.all_to_excel(e_format, \"R_analysis_Atypical_heavy_light_chains\")"
   ]
  }
 ],
 "metadata": {
  "kernelspec": {
   "display_name": "Python 3",
   "language": "python",
   "name": "python3"
  },
  "language_info": {
   "codemirror_mode": {
    "name": "ipython",
    "version": 3
   },
   "file_extension": ".py",
   "mimetype": "text/x-python",
   "name": "python",
   "nbconvert_exporter": "python",
   "pygments_lexer": "ipython3",
   "version": "3.12.2"
  }
 },
 "nbformat": 4,
 "nbformat_minor": 5
}
